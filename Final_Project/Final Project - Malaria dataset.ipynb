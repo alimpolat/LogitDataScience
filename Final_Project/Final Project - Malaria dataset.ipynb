{
 "cells": [
  {
   "cell_type": "code",
   "execution_count": 38,
   "metadata": {
    "collapsed": false
   },
   "outputs": [],
   "source": [
    "%matplotlib inline\n",
    "\n",
    "# Import necessary packages\n",
    "import pandas as pd\n",
    "import matplotlib\n",
    "import matplotlib.pyplot as plt\n",
    "\n",
    "matplotlib.style.use('seaborn-darkgrid')"
   ]
  },
  {
   "cell_type": "code",
   "execution_count": 35,
   "metadata": {
    "collapsed": false
   },
   "outputs": [
    {
     "name": "stdout",
     "output_type": "stream",
     "text": [
      "[u'seaborn-darkgrid', u'seaborn-notebook', u'classic', u'seaborn-ticks', u'grayscale', u'bmh', u'seaborn-talk', u'dark_background', u'ggplot', u'fivethirtyeight', u'seaborn-colorblind', u'seaborn-deep', u'seaborn-whitegrid', u'seaborn-bright', u'seaborn-poster', u'seaborn-muted', u'seaborn-paper', u'seaborn-white', u'seaborn-pastel', u'seaborn-dark', u'seaborn-dark-palette']\n"
     ]
    }
   ],
   "source": [
    "print matplotlib.style.available"
   ]
  },
  {
   "cell_type": "code",
   "execution_count": 24,
   "metadata": {
    "collapsed": false
   },
   "outputs": [
    {
     "name": "stdout",
     "output_type": "stream",
     "text": [
      "       TCMDC ID Our scaffold  Molecular framework cluster # (Gamo 2010)  \\\n",
      "0  TCMDC-123456          NaN                                        NaN   \n",
      "1  TCMDC-123457          NaN                                        NaN   \n",
      "2  TCMDC-123458          NaN                                        NaN   \n",
      "3  TCMDC-123459          NaN                                        NaN   \n",
      "4  TCMDC-123460          NaN                                        NaN   \n",
      "\n",
      "   Fingerprint cluster # (Gamo 2010) Target hypothesis (Gamo 2010)  \\\n",
      "0                                NaN                           NaN   \n",
      "1                                NaN                           NaN   \n",
      "2                                NaN                           NaN   \n",
      "3                                NaN                           NaN   \n",
      "4                                NaN                           NaN   \n",
      "\n",
      "   CDPK1 IC50, uM  CDPK4 IC50, uM  PK6 IC50, uM  PK7 IC50, uM     CHEMBL ID  \\\n",
      "0             NaN             NaN           NaN           NaN  CHEMBL534232   \n",
      "1             NaN             NaN           NaN           NaN  CHEMBL285157   \n",
      "2             NaN             NaN           NaN           NaN   CHEMBL48217   \n",
      "3             NaN             NaN           NaN           NaN  CHEMBL531018   \n",
      "4             NaN             NaN           NaN           NaN  CHEMBL526206   \n",
      "\n",
      "                         ...                          \\\n",
      "0                        ...                           \n",
      "1                        ...                           \n",
      "2                        ...                           \n",
      "3                        ...                           \n",
      "4                        ...                           \n",
      "\n",
      "   RO3_PASS (passes Congreve's Rule of 3 for fragment-based drug discovery?)  \\\n",
      "0                                                  N                           \n",
      "1                                                  N                           \n",
      "2                                                  N                           \n",
      "3                                                  N                           \n",
      "4                                                  N                           \n",
      "\n",
      "   NUM_RO5_VIOLATIONS  (# of Lipinski \"Rule of 5\" violations)  \\\n",
      "0                                                  1            \n",
      "1                                                  0            \n",
      "2                                                  1            \n",
      "3                                                  0            \n",
      "4                                                  1            \n",
      "\n",
      "  MED_CHEM_FRIENDLY (contains no undesirable R groups?)  \\\n",
      "0                                                  Y      \n",
      "1                                                  Y      \n",
      "2                                                  Y      \n",
      "3                                                  Y      \n",
      "4                                                  Y      \n",
      "\n",
      "   PCT_IHB_3D7 (% inhibition of P. falciparum 3D7 growth at 2 uM -- Gamo 2010)  \\\n",
      "0                                                 85                             \n",
      "1                                                 91                             \n",
      "2                                                 99                             \n",
      "3                                                100                             \n",
      "4                                                100                             \n",
      "\n",
      "   PCT_INHB_DD2 (% inhibition of P. falciparum DD2 growth at 2 uM -- Gamo 2010)  \\\n",
      "0                                                4.0                              \n",
      "1                                               80.0                              \n",
      "2                                               99.0                              \n",
      "3                                               96.0                              \n",
      "4                                               99.0                              \n",
      "\n",
      "   PCT_INHIB_3D7_PFLDH (% inhibition of P. falciparum Lactate Dehydrogenase at 2 uM -- Gamo 2010)  \\\n",
      "0                                                  0                                                \n",
      "1                                                  0                                                \n",
      "2                                                  0                                                \n",
      "3                                                  6                                                \n",
      "4                                                  0                                                \n",
      "\n",
      "   Unnamed: 25  \\\n",
      "0          NaN   \n",
      "1          NaN   \n",
      "2          NaN   \n",
      "3          NaN   \n",
      "4          NaN   \n",
      "\n",
      "   PCT_INHIB_HEPG2 (% inhibition of HepG2 cells at 10 uM -- Gamo 2010)  \\\n",
      "0                                                0.0                     \n",
      "1                                               22.0                     \n",
      "2                                               18.0                     \n",
      "3                                               45.0                     \n",
      "4                                               59.0                     \n",
      "\n",
      "   IFI (Inhibition Frequency Index)  \\\n",
      "0                              0.75   \n",
      "1                              4.62   \n",
      "2                              0.72   \n",
      "3                              7.25   \n",
      "4                              2.22   \n",
      "\n",
      "                                              SMILES  \n",
      "0  c1ccc(cc1)C(c2ccccc2)C(CN3CCN(CC3)c4cccc(c4)Cl...  \n",
      "1             c1ccc(cc1)CN2CCC(=CC2)c3c[nH]c4c3cccc4  \n",
      "2        c1cc(ccc1c2cc3ccc(cc3[nH]2)C(=N)N)C(=N)N.Cl  \n",
      "3  c1cc(ccc1c2[nH]c3cc(ccc3n2)c4ccc5c(c4)[nH]c(n5...  \n",
      "4  c1cc(ccc1c2[nH]c3ccc(cc3n2)c4ccc5c(c4)[nH]c(n5...  \n",
      "\n",
      "[5 rows x 29 columns]\n"
     ]
    }
   ],
   "source": [
    "df = pd.read_excel('UW_TCMDC_all_screened.xlsx')\n",
    "print df.head()"
   ]
  },
  {
   "cell_type": "markdown",
   "metadata": {},
   "source": [
    "Drop the column \"Unnamed: 25\" - since that is erroneous. The 'synonyms' column also has only 4 entries - so we will drop that too.\n",
    "Also, we'll rename the columns to make the dataframe easier to work with."
   ]
  },
  {
   "cell_type": "code",
   "execution_count": 25,
   "metadata": {
    "collapsed": false
   },
   "outputs": [
    {
     "name": "stdout",
     "output_type": "stream",
     "text": [
      "       TCMDC ID Our scaffold  Molecular framework cluster # (Gamo 2010)  \\\n",
      "0  TCMDC-123456          NaN                                        NaN   \n",
      "1  TCMDC-123457          NaN                                        NaN   \n",
      "2  TCMDC-123458          NaN                                        NaN   \n",
      "3  TCMDC-123459          NaN                                        NaN   \n",
      "4  TCMDC-123460          NaN                                        NaN   \n",
      "5  TCMDC-123461          NaN                                        NaN   \n",
      "\n",
      "   Fingerprint cluster # (Gamo 2010) Target hypothesis (Gamo 2010)  \\\n",
      "0                                NaN                           NaN   \n",
      "1                                NaN                           NaN   \n",
      "2                                NaN                           NaN   \n",
      "3                                NaN                           NaN   \n",
      "4                                NaN                           NaN   \n",
      "5                                NaN                           NaN   \n",
      "\n",
      "   CDPK1 IC50, uM  CDPK4 IC50, uM  PK6 IC50, uM  PK7 IC50, uM     CHEMBL ID  \\\n",
      "0             NaN             NaN           NaN           NaN  CHEMBL534232   \n",
      "1             NaN             NaN           NaN           NaN  CHEMBL285157   \n",
      "2             NaN             NaN           NaN           NaN   CHEMBL48217   \n",
      "3             NaN             NaN           NaN           NaN  CHEMBL531018   \n",
      "4             NaN             NaN           NaN           NaN  CHEMBL526206   \n",
      "5             NaN             NaN           NaN           NaN  CHEMBL528700   \n",
      "\n",
      "                         ...                          RTB  RO3_PASS  \\\n",
      "0                        ...                            6         N   \n",
      "1                        ...                            3         N   \n",
      "2                        ...                            3         N   \n",
      "3                        ...                            3         N   \n",
      "4                        ...                            3         N   \n",
      "5                        ...                            4         N   \n",
      "\n",
      "   NUM_RO5_VIOLATIONS  MED_CHEM_FRIENDLY  PCT_IHB_3D7  PCT_INHB_DD2  \\\n",
      "0                   1                  Y           85           4.0   \n",
      "1                   0                  Y           91          80.0   \n",
      "2                   1                  Y           99          99.0   \n",
      "3                   0                  Y          100          96.0   \n",
      "4                   1                  Y          100          99.0   \n",
      "5                   0                  Y           92          72.0   \n",
      "\n",
      "   PCT_INHIB_3D7_PFLDH  PCT_INHIB_HEPG2   IFI  \\\n",
      "0                    0              0.0  0.75   \n",
      "1                    0             22.0  4.62   \n",
      "2                    0             18.0  0.72   \n",
      "3                    6             45.0  7.25   \n",
      "4                    0             59.0  2.22   \n",
      "5                    0             13.0  0.00   \n",
      "\n",
      "                                              SMILES  \n",
      "0  c1ccc(cc1)C(c2ccccc2)C(CN3CCN(CC3)c4cccc(c4)Cl...  \n",
      "1             c1ccc(cc1)CN2CCC(=CC2)c3c[nH]c4c3cccc4  \n",
      "2        c1cc(ccc1c2cc3ccc(cc3[nH]2)C(=N)N)C(=N)N.Cl  \n",
      "3  c1cc(ccc1c2[nH]c3cc(ccc3n2)c4ccc5c(c4)[nH]c(n5...  \n",
      "4  c1cc(ccc1c2[nH]c3ccc(cc3n2)c4ccc5c(c4)[nH]c(n5...  \n",
      "5                    c1ccnc(c1)CCNc2ccnc3c2ccc(c3)Cl  \n",
      "\n",
      "[6 rows x 27 columns]\n"
     ]
    }
   ],
   "source": [
    "df.drop(labels = ['Unnamed: 25', 'SYNONYMS'], axis = 1, inplace = True)\n",
    "df.rename(columns={'MW_FREEBASE (molecular weight)': 'MW_FREEBASE',\\\n",
    "                   'ALOGP (logarithm of octanol/water partition coefficient)': 'ALOGP',\\\n",
    "                   'HBA (hydrogen bond acceptors)': 'HBA',\\\n",
    "                   'HBD (hydrogen bond donors)': 'HBD',\\\n",
    "                   'PSA (polar surface area, Angstroms^2)': 'PSA',\\\n",
    "                   'RTB (rotatable bonds)': 'RTB',\\\n",
    "                   \"RO3_PASS (passes Congreve's Rule of 3 for fragment-based drug discovery?)\": 'RO3_PASS',\\\n",
    "                   'NUM_RO5_VIOLATIONS  (# of Lipinski \"Rule of 5\" violations)': 'NUM_RO5_VIOLATIONS',\\\n",
    "                   'MED_CHEM_FRIENDLY (contains no undesirable R groups?)': 'MED_CHEM_FRIENDLY',\\\n",
    "                   'PCT_IHB_3D7 (% inhibition of P. falciparum 3D7 growth at 2 uM -- Gamo 2010)': 'PCT_IHB_3D7',\\\n",
    "                   'PCT_INHB_DD2 (% inhibition of P. falciparum DD2 growth at 2 uM -- Gamo 2010)': 'PCT_INHB_DD2',\\\n",
    "                   'PCT_INHIB_3D7_PFLDH (% inhibition of P. falciparum Lactate Dehydrogenase at 2 uM -- Gamo 2010)': 'PCT_INHIB_3D7_PFLDH',\\\n",
    "                   'PCT_INHIB_HEPG2 (% inhibition of HepG2 cells at 10 uM -- Gamo 2010)': 'PCT_INHIB_HEPG2',\\\n",
    "                   'IFI (Inhibition Frequency Index)': 'IFI'}, inplace=True)\n",
    "print df.head(6)"
   ]
  },
  {
   "cell_type": "markdown",
   "metadata": {},
   "source": [
    "As a first pass, let's visualize some of the columns to get a sense of the <em>distribution</em> of the data."
   ]
  },
  {
   "cell_type": "code",
   "execution_count": 40,
   "metadata": {
    "collapsed": false
   },
   "outputs": [
    {
     "data": {
      "text/plain": [
       "<matplotlib.axes._subplots.AxesSubplot at 0xb862160>"
      ]
     },
     "execution_count": 40,
     "metadata": {},
     "output_type": "execute_result"
    },
    {
     "data": {
      "image/png": "[encoded data removed]",
      "text/plain": [
       "<matplotlib.figure.Figure at 0xa905c18>"
      ]
     },
     "metadata": {},
     "output_type": "display_data"
    },
    {
     "data": {
      "image/png": "[encoded data removed]",
      "text/plain": [
       "<matplotlib.figure.Figure at 0xad69eb8>"
      ]
     },
     "metadata": {},
     "output_type": "display_data"
    }
   ],
   "source": [
    "df['pXC50_3D7'].plot(kind = 'hist')\n",
    "df['PCT_INHIB_HEPG2'].plot(kind = 'hist')\n",
    "df['MW_FREEBASE'].plot(kind = 'hist')\n",
    "df['ALOGP'].plot(kind = 'hist')\n",
    "df['HBA'].plot(kind = 'hist')\n",
    "df['HBD'].plot(kind = 'hist')\n",
    "df['PSA'].plot(kind = 'hist')"
   ]
  },
  {
   "cell_type": "code",
   "execution_count": null,
   "metadata": {
    "collapsed": true
   },
   "outputs": [],
   "source": []
  }
 ],
 "metadata": {
  "anaconda-cloud": {},
  "kernelspec": {
   "display_name": "Python [default]",
   "language": "python",
   "name": "python2"
  },
  "language_info": {
   "codemirror_mode": {
    "name": "ipython",
    "version": 2
   },
   "file_extension": ".py",
   "mimetype": "text/x-python",
   "name": "python",
   "nbconvert_exporter": "python",
   "pygments_lexer": "ipython2",
   "version": "2.7.12"
  }
 },
 "nbformat": 4,
 "nbformat_minor": 0
}
