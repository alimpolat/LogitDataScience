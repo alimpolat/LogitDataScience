{
 "cells": [
  {
   "cell_type": "markdown",
   "metadata": {},
   "source": [
    "Python Review HW"
   ]
  },
  {
   "cell_type": "markdown",
   "metadata": {},
   "source": [
    "1. Using the movie-lens 1M data and pandas read_table read in all three files (users, ratings, movies) into Pandas DataFrames. I recommend giving columns names directly to read_table for each case. \n",
    "HINT: you will need to open the files in a text editor to see what the separator character is. Also, the columns for each file\n",
    "correspond to the following:\n",
    "        - users.dat: user id, gender, age, occupation code, zip\n",
    "        - ratings.dat: user id, movie id, rating, timestamp\n",
    "        - movies.dat: movie id, title, genre\n",
    "        \n",
    "Use the data combining tools discussed above to combine these three objects into a single object named movie_data."
   ]
  },
  {
   "cell_type": "code",
   "execution_count": 1,
   "metadata": {
    "collapsed": true
   },
   "outputs": [],
   "source": [
    "# Import Pandas!\n",
    "import pandas as pd"
   ]
  },
  {
   "cell_type": "code",
   "execution_count": 2,
   "metadata": {
    "collapsed": true
   },
   "outputs": [],
   "source": [
    "movies = pd.read_table('ml-1m/movies.dat', names = ['movie_id', 'title', 'genre'], sep = \"::\", engine = 'python')"
   ]
  },
  {
   "cell_type": "code",
   "execution_count": 3,
   "metadata": {
    "collapsed": false
   },
   "outputs": [
    {
     "name": "stdout",
     "output_type": "stream",
     "text": [
      "      movie_id                                              title  \\\n",
      "0            1                                   Toy Story (1995)   \n",
      "1            2                                     Jumanji (1995)   \n",
      "2            3                            Grumpier Old Men (1995)   \n",
      "3            4                           Waiting to Exhale (1995)   \n",
      "4            5                 Father of the Bride Part II (1995)   \n",
      "5            6                                        Heat (1995)   \n",
      "6            7                                     Sabrina (1995)   \n",
      "7            8                                Tom and Huck (1995)   \n",
      "8            9                                Sudden Death (1995)   \n",
      "9           10                                   GoldenEye (1995)   \n",
      "10          11                     American President, The (1995)   \n",
      "11          12                 Dracula: Dead and Loving It (1995)   \n",
      "12          13                                       Balto (1995)   \n",
      "13          14                                       Nixon (1995)   \n",
      "14          15                            Cutthroat Island (1995)   \n",
      "15          16                                      Casino (1995)   \n",
      "16          17                       Sense and Sensibility (1995)   \n",
      "17          18                                  Four Rooms (1995)   \n",
      "18          19              Ace Ventura: When Nature Calls (1995)   \n",
      "19          20                                 Money Train (1995)   \n",
      "20          21                                  Get Shorty (1995)   \n",
      "21          22                                     Copycat (1995)   \n",
      "22          23                                   Assassins (1995)   \n",
      "23          24                                      Powder (1995)   \n",
      "24          25                           Leaving Las Vegas (1995)   \n",
      "25          26                                     Othello (1995)   \n",
      "26          27                                Now and Then (1995)   \n",
      "27          28                                  Persuasion (1995)   \n",
      "28          29                  City of Lost Children, The (1995)   \n",
      "29          30  Shanghai Triad (Yao a yao yao dao waipo qiao) ...   \n",
      "...        ...                                                ...   \n",
      "3853      3923                           Return of the Fly (1959)   \n",
      "3854      3924                                Pajama Party (1964)   \n",
      "3855      3925                      Stranger Than Paradise (1984)   \n",
      "3856      3926             Voyage to the Bottom of the Sea (1961)   \n",
      "3857      3927                            Fantastic Voyage (1966)   \n",
      "3858      3928       Abbott and Costello Meet Frankenstein (1948)   \n",
      "3859      3929                              Bank Dick, The (1940)   \n",
      "3860      3930         Creature From the Black Lagoon, The (1954)   \n",
      "3861      3931                     Giant Gila Monster, The (1959)   \n",
      "3862      3932                          Invisible Man, The (1933)   \n",
      "3863      3933                          Killer Shrews, The (1959)   \n",
      "3864      3934                                      Kronos (1957)   \n",
      "3865      3935                                      Kronos (1973)   \n",
      "3866      3936                   Phantom of the Opera, The (1943)   \n",
      "3867      3937                                     Runaway (1984)   \n",
      "3868      3938                 Slumber Party Massacre, The (1982)   \n",
      "3869      3939              Slumber Party Massacre II, The (1987)   \n",
      "3870      3940             Slumber Party Massacre III, The (1990)   \n",
      "3871      3941                     Sorority House Massacre (1986)   \n",
      "3872      3942                  Sorority House Massacre II (1990)   \n",
      "3873      3943                                  Bamboozled (2000)   \n",
      "3874      3944                                     Bootmen (2000)   \n",
      "3875      3945                          Digimon: The Movie (2000)   \n",
      "3876      3946                                  Get Carter (2000)   \n",
      "3877      3947                                  Get Carter (1971)   \n",
      "3878      3948                            Meet the Parents (2000)   \n",
      "3879      3949                         Requiem for a Dream (2000)   \n",
      "3880      3950                                   Tigerland (2000)   \n",
      "3881      3951                            Two Family House (2000)   \n",
      "3882      3952                              Contender, The (2000)   \n",
      "\n",
      "                               genre  \n",
      "0        Animation|Children's|Comedy  \n",
      "1       Adventure|Children's|Fantasy  \n",
      "2                     Comedy|Romance  \n",
      "3                       Comedy|Drama  \n",
      "4                             Comedy  \n",
      "5              Action|Crime|Thriller  \n",
      "6                     Comedy|Romance  \n",
      "7               Adventure|Children's  \n",
      "8                             Action  \n",
      "9          Action|Adventure|Thriller  \n",
      "10              Comedy|Drama|Romance  \n",
      "11                     Comedy|Horror  \n",
      "12              Animation|Children's  \n",
      "13                             Drama  \n",
      "14          Action|Adventure|Romance  \n",
      "15                    Drama|Thriller  \n",
      "16                     Drama|Romance  \n",
      "17                          Thriller  \n",
      "18                            Comedy  \n",
      "19                            Action  \n",
      "20               Action|Comedy|Drama  \n",
      "21              Crime|Drama|Thriller  \n",
      "22                          Thriller  \n",
      "23                      Drama|Sci-Fi  \n",
      "24                     Drama|Romance  \n",
      "25                             Drama  \n",
      "26                             Drama  \n",
      "27                           Romance  \n",
      "28                  Adventure|Sci-Fi  \n",
      "29                             Drama  \n",
      "...                              ...  \n",
      "3853                   Horror|Sci-Fi  \n",
      "3854                          Comedy  \n",
      "3855                          Comedy  \n",
      "3856                Adventure|Sci-Fi  \n",
      "3857                Adventure|Sci-Fi  \n",
      "3858                   Comedy|Horror  \n",
      "3859                          Comedy  \n",
      "3860                          Horror  \n",
      "3861                   Horror|Sci-Fi  \n",
      "3862                   Horror|Sci-Fi  \n",
      "3863                   Horror|Sci-Fi  \n",
      "3864                          Sci-Fi  \n",
      "3865                          Horror  \n",
      "3866                  Drama|Thriller  \n",
      "3867                 Sci-Fi|Thriller  \n",
      "3868                          Horror  \n",
      "3869                          Horror  \n",
      "3870                          Horror  \n",
      "3871                          Horror  \n",
      "3872                          Horror  \n",
      "3873                          Comedy  \n",
      "3874                    Comedy|Drama  \n",
      "3875  Adventure|Animation|Children's  \n",
      "3876           Action|Drama|Thriller  \n",
      "3877                        Thriller  \n",
      "3878                          Comedy  \n",
      "3879                           Drama  \n",
      "3880                           Drama  \n",
      "3881                           Drama  \n",
      "3882                  Drama|Thriller  \n",
      "\n",
      "[3883 rows x 3 columns]\n"
     ]
    }
   ],
   "source": [
    "print movies\n",
    "# movies has 3883 rows"
   ]
  },
  {
   "cell_type": "code",
   "execution_count": 4,
   "metadata": {
    "collapsed": false
   },
   "outputs": [
    {
     "name": "stdout",
     "output_type": "stream",
     "text": [
      "         user_id  movie_id  rating  timestamp\n",
      "0              1      1193       5  978300760\n",
      "1              1       661       3  978302109\n",
      "2              1       914       3  978301968\n",
      "3              1      3408       4  978300275\n",
      "4              1      2355       5  978824291\n",
      "5              1      1197       3  978302268\n",
      "6              1      1287       5  978302039\n",
      "7              1      2804       5  978300719\n",
      "8              1       594       4  978302268\n",
      "9              1       919       4  978301368\n",
      "10             1       595       5  978824268\n",
      "11             1       938       4  978301752\n",
      "12             1      2398       4  978302281\n",
      "13             1      2918       4  978302124\n",
      "14             1      1035       5  978301753\n",
      "15             1      2791       4  978302188\n",
      "16             1      2687       3  978824268\n",
      "17             1      2018       4  978301777\n",
      "18             1      3105       5  978301713\n",
      "19             1      2797       4  978302039\n",
      "20             1      2321       3  978302205\n",
      "21             1       720       3  978300760\n",
      "22             1      1270       5  978300055\n",
      "23             1       527       5  978824195\n",
      "24             1      2340       3  978300103\n",
      "25             1        48       5  978824351\n",
      "26             1      1097       4  978301953\n",
      "27             1      1721       4  978300055\n",
      "28             1      1545       4  978824139\n",
      "29             1       745       3  978824268\n",
      "...          ...       ...     ...        ...\n",
      "1000179     6040      2762       4  956704584\n",
      "1000180     6040      1036       3  956715455\n",
      "1000181     6040       508       4  956704972\n",
      "1000182     6040      1041       4  957717678\n",
      "1000183     6040      3735       4  960971654\n",
      "1000184     6040      2791       4  956715569\n",
      "1000185     6040      2794       1  956716438\n",
      "1000186     6040       527       5  956704219\n",
      "1000187     6040      2003       1  956716294\n",
      "1000188     6040       535       4  964828734\n",
      "1000189     6040      2010       5  957716795\n",
      "1000190     6040      2011       4  956716113\n",
      "1000191     6040      3751       4  964828782\n",
      "1000192     6040      2019       5  956703977\n",
      "1000193     6040       541       4  956715288\n",
      "1000194     6040      1077       5  964828799\n",
      "1000195     6040      1079       2  956715648\n",
      "1000196     6040       549       4  956704746\n",
      "1000197     6040      2020       3  956715288\n",
      "1000198     6040      2021       3  956716374\n",
      "1000199     6040      2022       5  956716207\n",
      "1000200     6040      2028       5  956704519\n",
      "1000201     6040      1080       4  957717322\n",
      "1000202     6040      1089       4  956704996\n",
      "1000203     6040      1090       3  956715518\n",
      "1000204     6040      1091       1  956716541\n",
      "1000205     6040      1094       5  956704887\n",
      "1000206     6040       562       5  956704746\n",
      "1000207     6040      1096       4  956715648\n",
      "1000208     6040      1097       4  956715569\n",
      "\n",
      "[1000209 rows x 4 columns]\n"
     ]
    }
   ],
   "source": [
    "ratings = pd.read_table('ml-1m/ratings.dat', names = ['user_id', 'movie_id', 'rating', 'timestamp'], sep = \"::\", engine = 'python')\n",
    "print ratings\n",
    "# ratings has 1000209 rows"
   ]
  },
  {
   "cell_type": "code",
   "execution_count": 30,
   "metadata": {
    "collapsed": false
   },
   "outputs": [
    {
     "name": "stdout",
     "output_type": "stream",
     "text": [
      "      user_id gender  age  occupation_code    zip\n",
      "0           1      F    1               10  48067\n",
      "1           2      M   56               16  70072\n",
      "2           3      M   25               15  55117\n",
      "3           4      M   45                7  02460\n",
      "4           5      M   25               20  55455\n",
      "5           6      F   50                9  55117\n",
      "6           7      M   35                1  06810\n",
      "7           8      M   25               12  11413\n",
      "8           9      M   25               17  61614\n",
      "9          10      F   35                1  95370\n",
      "10         11      F   25                1  04093\n",
      "11         12      M   25               12  32793\n",
      "12         13      M   45                1  93304\n",
      "13         14      M   35                0  60126\n",
      "14         15      M   25                7  22903\n",
      "15         16      F   35                0  20670\n",
      "16         17      M   50                1  95350\n",
      "17         18      F   18                3  95825\n",
      "18         19      M    1               10  48073\n",
      "19         20      M   25               14  55113\n",
      "20         21      M   18               16  99353\n",
      "21         22      M   18               15  53706\n",
      "22         23      M   35                0  90049\n",
      "23         24      F   25                7  10023\n",
      "24         25      M   18                4  01609\n",
      "25         26      M   25                7  23112\n",
      "26         27      M   25               11  19130\n",
      "27         28      F   25                1  14607\n",
      "28         29      M   35                7  33407\n",
      "29         30      F   35                7  19143\n",
      "...       ...    ...  ...              ...    ...\n",
      "6010     6011      M   35               15  80538\n",
      "6011     6012      M   35               15  02871\n",
      "6012     6013      F   25               20  32301\n",
      "6013     6014      M   45                1  80634\n",
      "6014     6015      F   25                9  80013\n",
      "6015     6016      M   45                1  37209\n",
      "6016     6017      F   35                7  21117\n",
      "6017     6018      M   35                1  48906\n",
      "6018     6019      M   25                0  10024\n",
      "6019     6020      M   50               16  10023\n",
      "6020     6021      M   25               12  08876\n",
      "6021     6022      M   25               17  57006\n",
      "6022     6023      M   25                0  43213\n",
      "6023     6024      M   25               12  53705\n",
      "6024     6025      F   25                1  32607\n",
      "6025     6026      M   35                6  11210\n",
      "6026     6027      M   18                4  20742\n",
      "6027     6028      M   18                4  94133\n",
      "6028     6029      F   25                1  23185\n",
      "6029     6030      M   25               17  32618\n",
      "6030     6031      F   18                0  45123\n",
      "6031     6032      M   45                7  55108\n",
      "6032     6033      M   50               13  78232\n",
      "6033     6034      M   25               14  94117\n",
      "6034     6035      F   25                1  78734\n",
      "6035     6036      F   25               15  32603\n",
      "6036     6037      F   45                1  76006\n",
      "6037     6038      F   56                1  14706\n",
      "6038     6039      F   45                0  01060\n",
      "6039     6040      M   25                6  11106\n",
      "\n",
      "[6040 rows x 5 columns]\n"
     ]
    }
   ],
   "source": [
    "users = pd.read_table('ml-1m/users.dat', names = ['user_id', 'gender', 'age', 'occupation_code', 'zip'], sep = \"::\", engine = 'python')\n",
    "print users\n",
    "# users has 6040 rows"
   ]
  },
  {
   "cell_type": "code",
   "execution_count": 7,
   "metadata": {
    "collapsed": false
   },
   "outputs": [
    {
     "name": "stdout",
     "output_type": "stream",
     "text": [
      "   movie_id             title                        genre  user_id  rating  \\\n",
      "0         1  Toy Story (1995)  Animation|Children's|Comedy      1.0     5.0   \n",
      "1         1  Toy Story (1995)  Animation|Children's|Comedy      6.0     4.0   \n",
      "2         1  Toy Story (1995)  Animation|Children's|Comedy      8.0     4.0   \n",
      "3         1  Toy Story (1995)  Animation|Children's|Comedy      9.0     5.0   \n",
      "4         1  Toy Story (1995)  Animation|Children's|Comedy     10.0     5.0   \n",
      "5         1  Toy Story (1995)  Animation|Children's|Comedy     18.0     4.0   \n",
      "6         1  Toy Story (1995)  Animation|Children's|Comedy     19.0     5.0   \n",
      "7         1  Toy Story (1995)  Animation|Children's|Comedy     21.0     3.0   \n",
      "8         1  Toy Story (1995)  Animation|Children's|Comedy     23.0     4.0   \n",
      "9         1  Toy Story (1995)  Animation|Children's|Comedy     26.0     3.0   \n",
      "\n",
      "     timestamp  \n",
      "0  978824268.0  \n",
      "1  978237008.0  \n",
      "2  978233496.0  \n",
      "3  978225952.0  \n",
      "4  978226474.0  \n",
      "5  978154768.0  \n",
      "6  978555994.0  \n",
      "7  978139347.0  \n",
      "8  978463614.0  \n",
      "9  978130703.0  \n"
     ]
    }
   ],
   "source": [
    "a = pd.merge(movies, ratings, on='movie_id', how = 'outer')\n",
    "print a.head(10)"
   ]
  },
  {
   "cell_type": "code",
   "execution_count": 8,
   "metadata": {
    "collapsed": false
   },
   "outputs": [
    {
     "name": "stdout",
     "output_type": "stream",
     "text": [
      "         movie_id                          title                    genre  \\\n",
      "1000371      3177             Next Friday (1999)                   Comedy   \n",
      "1000372      3273                Scream 3 (2000)  Horror|Mystery|Thriller   \n",
      "1000373      3301   Whole Nine Yards, The (2000)             Comedy|Crime   \n",
      "1000374      3316          Reindeer Games (2000)          Action|Thriller   \n",
      "1000375      3317             Wonder Boys (2000)             Comedy|Drama   \n",
      "1000376      3408         Erin Brockovich (2000)                    Drama   \n",
      "1000377      3409       Final Destination (2000)           Drama|Thriller   \n",
      "1000378      3481           High Fidelity (2000)                   Comedy   \n",
      "1000379      3483  Road to El Dorado, The (2000)     Animation|Children's   \n",
      "1000380      3484             Skulls, The (2000)                 Thriller   \n",
      "1000381      3513     Rules of Engagement (2000)           Drama|Thriller   \n",
      "1000382      3535         American Psycho (2000)   Comedy|Horror|Thriller   \n",
      "1000383      3536       Keeping the Faith (2000)           Comedy|Romance   \n",
      "1000384      3555                   U-571 (2000)          Action|Thriller   \n",
      "1000385      3578               Gladiator (2000)             Action|Drama   \n",
      "\n",
      "         user_id  rating    timestamp gender   age  occupation_code    zip  \n",
      "1000371   5727.0     1.0  958489748.0      M  25.0              4.0  92843  \n",
      "1000372   5727.0     4.0  958492479.0      M  25.0              4.0  92843  \n",
      "1000373   5727.0     5.0  958490142.0      M  25.0              4.0  92843  \n",
      "1000374   5727.0     3.0  958490699.0      M  25.0              4.0  92843  \n",
      "1000375   5727.0     4.0  958489879.0      M  25.0              4.0  92843  \n",
      "1000376   5727.0     5.0  958489879.0      M  25.0              4.0  92843  \n",
      "1000377   5727.0     4.0  958490143.0      M  25.0              4.0  92843  \n",
      "1000378   5727.0     4.0  958489879.0      M  25.0              4.0  92843  \n",
      "1000379   5727.0     3.0  958490143.0      M  25.0              4.0  92843  \n",
      "1000380   5727.0     1.0  958489902.0      M  25.0              4.0  92843  \n",
      "1000381   5727.0     4.0  958489970.0      M  25.0              4.0  92843  \n",
      "1000382   5727.0     2.0  958489970.0      M  25.0              4.0  92843  \n",
      "1000383   5727.0     5.0  958489902.0      M  25.0              4.0  92843  \n",
      "1000384   5727.0     3.0  958490699.0      M  25.0              4.0  92843  \n",
      "1000385   5727.0     5.0  958490171.0      M  25.0              4.0  92843  \n"
     ]
    }
   ],
   "source": [
    "movie_data = pd.merge(a, users, on = 'user_id', how = 'outer')\n",
    "print movie_data.tail(15)"
   ]
  },
  {
   "cell_type": "markdown",
   "metadata": {},
   "source": [
    "2. Use the movie_data object from the previous exercise and compute the following things:\n",
    "    - The 5 movies with the most number of ratings\n",
    "    - A new object called active_titles that is made up of movies each having at least 250 ratings\n",
    "    - For the subset of movies in the active_titles list compute the following:\n",
    "        - The 3 movies with the highest average rating for females. Do the same for males.\n",
    "        - The 10 movies men liked much more than women and the 10 movies women liked more than men (use the difference in\n",
    "          average ratings and sort ascending and descending). \n",
    "        - The 5 movies that had the highest standard deviation in rating.\n",
    "        \n",
    "HINT: For some of these operations it might be helpful to compute a pivot table using the pivot_table method of a DataFrame."
   ]
  },
  {
   "cell_type": "code",
   "execution_count": 26,
   "metadata": {
    "collapsed": false
   },
   "outputs": [
    {
     "name": "stdout",
     "output_type": "stream",
     "text": [
      "American Beauty (1999)                                   3428\n",
      "Star Wars: Episode IV - A New Hope (1977)                2991\n",
      "Star Wars: Episode V - The Empire Strikes Back (1980)    2990\n",
      "Star Wars: Episode VI - Return of the Jedi (1983)        2883\n",
      "Jurassic Park (1993)                                     2672\n",
      "Name: title, dtype: int64\n"
     ]
    }
   ],
   "source": [
    "# The five movies with the most number of ratings:\n",
    "print movie_data['title'].value_counts()[0:5]"
   ]
  },
  {
   "cell_type": "code",
   "execution_count": 38,
   "metadata": {
    "collapsed": false
   },
   "outputs": [
    {
     "name": "stdout",
     "output_type": "stream",
     "text": [
      "   movie_id                                      title  \\\n",
      "0         1                           Toy Story (1995)   \n",
      "1        48                          Pocahontas (1995)   \n",
      "2       150                           Apollo 13 (1995)   \n",
      "3       260  Star Wars: Episode IV - A New Hope (1977)   \n",
      "4       527                    Schindler's List (1993)   \n",
      "5       531                  Secret Garden, The (1993)   \n",
      "6       588                             Aladdin (1992)   \n",
      "7       594     Snow White and the Seven Dwarfs (1937)   \n",
      "\n",
      "                                  genre  user_id  rating    timestamp gender  \\\n",
      "0           Animation|Children's|Comedy      1.0     5.0  978824268.0      F   \n",
      "1  Animation|Children's|Musical|Romance      1.0     5.0  978824351.0      F   \n",
      "2                                 Drama      1.0     5.0  978301777.0      F   \n",
      "3       Action|Adventure|Fantasy|Sci-Fi      1.0     4.0  978300760.0      F   \n",
      "4                             Drama|War      1.0     5.0  978824195.0      F   \n",
      "5                      Children's|Drama      1.0     4.0  978302149.0      F   \n",
      "6   Animation|Children's|Comedy|Musical      1.0     4.0  978824268.0      F   \n",
      "7          Animation|Children's|Musical      1.0     4.0  978302268.0      F   \n",
      "\n",
      "   age  occupation_code    zip  \n",
      "0  1.0             10.0  48067  \n",
      "1  1.0             10.0  48067  \n",
      "2  1.0             10.0  48067  \n",
      "3  1.0             10.0  48067  \n",
      "4  1.0             10.0  48067  \n",
      "5  1.0             10.0  48067  \n",
      "6  1.0             10.0  48067  \n",
      "7  1.0             10.0  48067  \n"
     ]
    }
   ],
   "source": [
    "# New DataFrame, active_titles, containing the movies each having at least 250 ratings\n",
    "ratings_by_title = movie_data.groupby('title').size()\n",
    "#ratings_by_title[:15]\n",
    "#type(ratings_by_title) #returns a Pandas series with sizes of ratings for each title\n",
    "at_least_250_rev = ratings_by_title.index[ratings_by_title >= 250] # Gives an index of the movies with at least 250 reviews\n",
    "active_titles = movie_data[movie_data['title'].isin(at_least_250_rev)]\n",
    "print active_titles.head(8)"
   ]
  },
  {
   "cell_type": "code",
   "execution_count": 60,
   "metadata": {
    "collapsed": false
   },
   "outputs": [
    {
     "name": "stdout",
     "output_type": "stream",
     "text": [
      "The 3 movies in active_titles with the highest average rating for females:\n",
      "gender                                                F         M\n",
      "title                                                            \n",
      "Close Shave, A (1995)                          4.644444  4.473795\n",
      "Wrong Trousers, The (1993)                     4.588235  4.478261\n",
      "Sunset Blvd. (a.k.a. Sunset Boulevard) (1950)  4.572650  4.464589\n",
      "------------------------------------------------------------------------\n",
      "The 3 movies in active_titles with the highest average rating for males:\n",
      "gender                                                     F         M\n",
      "title                                                                 \n",
      "Godfather, The (1972)                               4.314700  4.583333\n",
      "Seven Samurai (The Magnificent Seven) (Shichini...  4.481132  4.576628\n",
      "Shawshank Redemption, The (1994)                    4.539075  4.560625\n"
     ]
    }
   ],
   "source": [
    "# The 3 movies in active_titles with the highest average rating for females. Do the same for males.\n",
    "\n",
    "mean_ratings_by_gender = active_titles.pivot_table('rating', index = 'title', columns = 'gender', aggfunc = 'mean')\n",
    "top_female_ratings = mean_ratings_by_gender.sort_values(by='F', ascending = False)\n",
    "print \"The 3 movies in active_titles with the highest average rating for females:\"\n",
    "print top_female_ratings[:3]\n",
    "print \"------------------------------------------------------------------------\"\n",
    "print \"The 3 movies in active_titles with the highest average rating for males:\"\n",
    "top_male_ratings = mean_ratings_by_gender.sort_values(by = 'M', ascending = False)\n",
    "print top_male_ratings[:3]"
   ]
  },
  {
   "cell_type": "code",
   "execution_count": 59,
   "metadata": {
    "collapsed": false
   },
   "outputs": [
    {
     "name": "stdout",
     "output_type": "stream",
     "text": [
      "The 10 movies in active_titles that men liked more than women:\n",
      "gender                                         F         M  difference\n",
      "title                                                                 \n",
      "Good, The Bad and The Ugly, The (1966)  3.494949  4.221300   -0.726351\n",
      "Kentucky Fried Movie, The (1977)        2.878788  3.555147   -0.676359\n",
      "Dumb & Dumber (1994)                    2.697987  3.336595   -0.638608\n",
      "Longest Day, The (1962)                 3.411765  4.031447   -0.619682\n",
      "Cable Guy, The (1996)                   2.250000  2.863787   -0.613787\n",
      "Evil Dead II (Dead By Dawn) (1987)      3.297297  3.909283   -0.611985\n",
      "Hidden, The (1987)                      3.137931  3.745098   -0.607167\n",
      "Rocky III (1982)                        2.361702  2.943503   -0.581801\n",
      "Caddyshack (1980)                       3.396135  3.969737   -0.573602\n",
      "For a Few Dollars More (1965)           3.409091  3.953795   -0.544704\n",
      "-----------------------------------------------------------------------\n",
      "The 10 movies in active_titles that women liked more than men:\n",
      "gender                                        F         M  difference\n",
      "title                                                                \n",
      "Dirty Dancing (1987)                   3.790378  2.959596    0.830782\n",
      "Jumpin' Jack Flash (1986)              3.254717  2.578358    0.676359\n",
      "Grease (1978)                          3.975265  3.367041    0.608224\n",
      "Little Women (1994)                    3.870588  3.321739    0.548849\n",
      "Steel Magnolias (1989)                 3.901734  3.365957    0.535777\n",
      "Anastasia (1997)                       3.800000  3.281609    0.518391\n",
      "Rocky Horror Picture Show, The (1975)  3.673016  3.160131    0.512885\n",
      "Color Purple, The (1985)               4.158192  3.659341    0.498851\n",
      "Age of Innocence, The (1993)           3.827068  3.339506    0.487561\n",
      "Free Willy (1993)                      2.921348  2.438776    0.482573\n"
     ]
    }
   ],
   "source": [
    "# The 10 movies men liked much more than women and the 10 movies women liked more than men (use the difference\n",
    "# in average ratings and sort ascending and descending).\n",
    "# The easiest way to do this is to add a column with the difference in ratings between men and women, and then sort that.\n",
    "\n",
    "mean_ratings_by_gender['difference'] = mean_ratings_by_gender['F'] - mean_ratings_by_gender['M']\n",
    "# A positive difference means F > M, negative difference means M > F.\n",
    "print \"The 10 movies in active_titles that men liked more than women:\"\n",
    "print mean_ratings_by_gender.sort_values(by = 'difference')[:10]\n",
    "print \"-----------------------------------------------------------------------\"\n",
    "print \"The 10 movies in active_titles that women liked more than men:\"\n",
    "print mean_ratings_by_gender.sort_values(by = 'difference', ascending = False)[:10]"
   ]
  },
  {
   "cell_type": "code",
   "execution_count": 67,
   "metadata": {
    "collapsed": false
   },
   "outputs": [
    {
     "data": {
      "text/plain": [
       "title\n",
       "Dumb & Dumber (1994)                     1.321333\n",
       "Blair Witch Project, The (1999)          1.316368\n",
       "Natural Born Killers (1994)              1.307198\n",
       "Tank Girl (1995)                         1.277695\n",
       "Rocky Horror Picture Show, The (1975)    1.260177\n",
       "Name: rating, dtype: float64"
      ]
     },
     "execution_count": 67,
     "metadata": {},
     "output_type": "execute_result"
    }
   ],
   "source": [
    "# The 5 movies in active_titles that have the highest standard deviation in rating.\n",
    "\n",
    "std_rating_by_title = active_titles.groupby('title')['rating'].std()\n",
    "std_rating_by_title.sort_values(ascending = False)[:5]"
   ]
  },
  {
   "cell_type": "code",
   "execution_count": null,
   "metadata": {
    "collapsed": true
   },
   "outputs": [],
   "source": []
  }
 ],
 "metadata": {
  "kernelspec": {
   "display_name": "Python 2",
   "language": "python",
   "name": "python2"
  },
  "language_info": {
   "codemirror_mode": {
    "name": "ipython",
    "version": 2
   },
   "file_extension": ".py",
   "mimetype": "text/x-python",
   "name": "python",
   "nbconvert_exporter": "python",
   "pygments_lexer": "ipython2",
   "version": "2.7.11"
  }
 },
 "nbformat": 4,
 "nbformat_minor": 0
}
